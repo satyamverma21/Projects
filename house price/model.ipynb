{
 "cells": [
  {
   "cell_type": "code",
   "execution_count": 2,
   "metadata": {},
   "outputs": [
    {
     "name": "stdout",
     "output_type": "stream",
     "text": [
      "[1480000. 1035000. 1465000.  850000. 1600000.]\n",
      "0    1480000.0\n",
      "1    1035000.0\n",
      "2    1465000.0\n",
      "3     850000.0\n",
      "4    1600000.0\n",
      "5     941000.0\n",
      "6    1876000.0\n",
      "7    1636000.0\n",
      "8     300000.0\n",
      "9    1097000.0\n",
      "Name: Price, dtype: float64\n"
     ]
    }
   ],
   "source": [
    "import pandas as pd \n",
    "# from tkinter.tix import DirTree\n",
    "from sklearn.tree import DecisionTreeRegressor \n",
    "\n",
    "path = 'HOUSE.csv'\n",
    "full_data  = pd.read_csv(path)\n",
    "# print(full_data.columns)\n",
    "\n",
    "\n",
    "data_feature =  ['Rooms', 'Bathroom', 'Landsize', 'Lattitude', 'Longtitude']\n",
    "\n",
    "price_data = full_data['Price'] \n",
    "data = full_data[data_feature]\n",
    "\n",
    "model = DecisionTreeRegressor(random_state=0)\n",
    "\n",
    "model.fit(data,price_data)\n",
    "\n",
    "\n",
    "print(model.predict(data.head()))\n",
    "print(price_data.head(10))"
   ]
  },
  {
   "cell_type": "code",
   "execution_count": null,
   "metadata": {},
   "outputs": [],
   "source": []
  }
 ],
 "metadata": {
  "kernelspec": {
   "display_name": "Python 3.10.0 64-bit",
   "language": "python",
   "name": "python3"
  },
  "language_info": {
   "codemirror_mode": {
    "name": "ipython",
    "version": 3
   },
   "file_extension": ".py",
   "mimetype": "text/x-python",
   "name": "python",
   "nbconvert_exporter": "python",
   "pygments_lexer": "ipython3",
   "version": "3.10.0"
  },
  "orig_nbformat": 4,
  "vscode": {
   "interpreter": {
    "hash": "369f2c481f4da34e4445cda3fffd2e751bd1c4d706f27375911949ba6bb62e1c"
   }
  }
 },
 "nbformat": 4,
 "nbformat_minor": 2
}
